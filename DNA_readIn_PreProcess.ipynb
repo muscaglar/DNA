{
  "cells": [
    {
      "cell_type": "code",
      "source": [
        "from nptdms import TdmsFile as tdms\n",
        "import glob, os\n",
        "import pandas as pd\n",
        "import numpy as np\n",
        "import matplotlib.pyplot as plt\n",
        "import scipy.signal as signal\n",
        "from pathlib import Path\n",
        "from sklearn import preprocessing\n",
        "%matplotlib inline\n",
        "\n",
        "def importCSV(filePath):\n",
        "    dataFrame = pd.read_csv(filePath, header=0, low_memory=False)\n",
        "    return dataFrame\n",
        "\n",
        "def reIndex(DF):\n",
        "    DF.reset_index(drop=True, inplace=True)\n",
        "    return 0\n",
        "\n",
        "def nullDrop(DF,col):\n",
        "    return DF.dropna(subset=col)#DF[pd.notnull(DF[col])]\n",
        "\n",
        "def dfDrop(DF,col,inPlace):\n",
        "    if(inPlace):\n",
        "        DF.drop(col, inplace=True, axis=1)\n",
        "        return 0\n",
        "    else:\n",
        "        return DF.drop(col,axis=1)\n",
        "\n",
        "def makeDict(value,key):\n",
        "    myDict = value\n",
        "    myDict.index = key\n",
        "    return myDict.to_dict()\n",
        "\n",
        "def tdmsToDF(topPath,fileNum):\n",
        "    os.chdir(topPath)\n",
        "    firstRun = True\n",
        "    ind = 1\n",
        "    xInd = 0\n",
        "    for file in sorted(glob.glob(\"*.tdms\")):\n",
        "        if(firstRun):\n",
        "            outputTDMS = tdms(topPath+file).as_dataframe()\n",
        "            firstRun = False\n",
        "        else:\n",
        "            currentTDMS = tdms(topPath+file).as_dataframe()\n",
        "            outputTDMS = outputTDMS.append(currentTDMS, ignore_index=True)\n",
        "            ind = ind+1\n",
        "        if(ind == 100):\n",
        "            print('SAVE')\n",
        "            xInd = xInd + 1\n",
        "            outputTDMS = outputTDMS.rename(columns={outputTDMS.columns[0]: \"Voltage_mV\",\n",
        "                                            outputTDMS.columns[1]: \"Current_nA\"})\n",
        "            #path = Path(topPath+\"part\" + str(xInd) + \".npy\")\n",
        "            \n",
        "            path = Path('/Users/Mus/Downloads/DNA/'+date+'/'+date+'_'+fileNum+'/'+'part' + str(xInd) + '.npy')\n",
        "            \n",
        "            if not os.path.exists('/Users/Mus/Downloads/DNA/'+date+'/'+date+'_'+fileNum+'/'):\n",
        "                os.makedirs('/Users/Mus/Downloads/DNA/'+date+'/'+date+'_'+fileNum+'/')\n",
        "            \n",
        "            np.save(path,outputTDMS)\n",
        "            ind = 1\n",
        "            firstRun = True\n",
        "    xInd = xInd + 1\n",
        "    outputTDMS = outputTDMS.rename(columns={outputTDMS.columns[0]: \"Voltage_mV\",\n",
        "                                            outputTDMS.columns[1]: \"Current_nA\"})\n",
        "    #path = Path(topPath+\"part\" + str(xInd) + \".npy\")\n",
        "    path = Path('/Users/Mus/Downloads/DNA/'+date+'/'+date+'_'+fileNum+'/'+'part' + str(xInd) + '.npy')\n",
        "    if not os.path.exists('/Users/Mus/Downloads/DNA/'+date+'/'+date+'_'+fileNum+'/'):\n",
        "                os.makedirs('/Users/Mus/Downloads/DNA/'+date+'/'+date+'_'+fileNum+'/')\n",
        "    np.save(path,outputTDMS)\n",
        "    \n",
        "    return xInd\n",
        "\n",
        "def addTime(freqHz,DF):\n",
        "    reIndex(DF)\n",
        "    rows = DF.shape[0]\n",
        "    cols = DF.shape[1]\n",
        "    DF.insert(cols, \"Time_s\", np.linspace(0, (rows-1)/freqHz, num=rows))\n",
        "    #DF.loc[DF[\"Time_s\"]] = np.linspace(0, (rows-1)/freqHz, num=rows)\n",
        "    #DF = DF.assign('Time_s'= np.linspace(0, (rows-1)/freqHz, num=rows))\n",
        "    #DF.Time_s = np.linspace(0, (rows-1)/freqHz, num=rows)\n",
        "    return DF\n",
        "\n",
        "def butter_lowpass(cutoff, fs, order=5):\n",
        "    nyq = 0.5 * fs\n",
        "    normal_cutoff = cutoff / nyq\n",
        "    b, a = signal.butter(order, normal_cutoff, btype='low', analog=False)\n",
        "    return b, a\n",
        "\n",
        "def butter_lowpass_filter(data, cutoff, fs, order=5):\n",
        "    b, a = butter_lowpass(cutoff, fs, order=order)\n",
        "    y = signal.lfilter(b, a, data)\n",
        "    return y"
      ],
      "outputs": [],
      "execution_count": 99,
      "metadata": {}
    },
    {
      "cell_type": "code",
      "source": [
        "######### I/O\n",
        "file = []   \n",
        "date = '120517'\n",
        "myTopFolder = \"/Volumes/Seagate Backup Plus Drive/ExperimentData/Data/\"+date+\"/\" #Data_Axopatch/\"+date+\"/\"\n",
        "\n",
        "########## Find all file suffix\n",
        "os.chdir(myTopFolder)\n",
        "for root, dirs, files in os.walk(myTopFolder, topdown=True):\n",
        "    for name in dirs:\n",
        "        nameSplit = name.split('_')\n",
        "        if(nameSplit[0] != 'Frame'):\n",
        "            if(len(name.split(date+'_'))>1):\n",
        "                file.append(name.split(date+'_')[1])\n",
        "#########################    \n",
        "alreadyConverted = True\n",
        "#######################################"
      ],
      "outputs": [
        {
          "output_type": "error",
          "ename": "FileNotFoundError",
          "evalue": "[Errno 2] No such file or directory: '/Volumes/Seagate Backup Plus Drive/ExperimentData/Data/120517/'",
          "traceback": [
            "\u001b[0;31m---------------------------------------------------------------------------\u001b[0m",
            "\u001b[0;31mFileNotFoundError\u001b[0m                         Traceback (most recent call last)",
            "\u001b[0;32m<ipython-input-4-50999d3f58ab>\u001b[0m in \u001b[0;36m<module>\u001b[0;34m\u001b[0m\n\u001b[1;32m      5\u001b[0m \u001b[0malreadyConverted\u001b[0m \u001b[0;34m=\u001b[0m \u001b[0;32mTrue\u001b[0m\u001b[0;34m\u001b[0m\u001b[0;34m\u001b[0m\u001b[0m\n\u001b[1;32m      6\u001b[0m \u001b[0;31m########## Find all file suffix\u001b[0m\u001b[0;34m\u001b[0m\u001b[0;34m\u001b[0m\u001b[0;34m\u001b[0m\u001b[0m\n\u001b[0;32m----> 7\u001b[0;31m \u001b[0mos\u001b[0m\u001b[0;34m.\u001b[0m\u001b[0mchdir\u001b[0m\u001b[0;34m(\u001b[0m\u001b[0mmyTopFolder\u001b[0m\u001b[0;34m)\u001b[0m\u001b[0;34m\u001b[0m\u001b[0;34m\u001b[0m\u001b[0m\n\u001b[0m\u001b[1;32m      8\u001b[0m \u001b[0;32mfor\u001b[0m \u001b[0mroot\u001b[0m\u001b[0;34m,\u001b[0m \u001b[0mdirs\u001b[0m\u001b[0;34m,\u001b[0m \u001b[0mfiles\u001b[0m \u001b[0;32min\u001b[0m \u001b[0mos\u001b[0m\u001b[0;34m.\u001b[0m\u001b[0mwalk\u001b[0m\u001b[0;34m(\u001b[0m\u001b[0mmyTopFolder\u001b[0m\u001b[0;34m,\u001b[0m \u001b[0mtopdown\u001b[0m\u001b[0;34m=\u001b[0m\u001b[0;32mTrue\u001b[0m\u001b[0;34m)\u001b[0m\u001b[0;34m:\u001b[0m\u001b[0;34m\u001b[0m\u001b[0;34m\u001b[0m\u001b[0m\n\u001b[1;32m      9\u001b[0m     \u001b[0;32mfor\u001b[0m \u001b[0mname\u001b[0m \u001b[0;32min\u001b[0m \u001b[0mdirs\u001b[0m\u001b[0;34m:\u001b[0m\u001b[0;34m\u001b[0m\u001b[0;34m\u001b[0m\u001b[0m\n",
            "\u001b[0;31mFileNotFoundError\u001b[0m: [Errno 2] No such file or directory: '/Volumes/Seagate Backup Plus Drive/ExperimentData/Data/120517/'"
          ]
        }
      ],
      "execution_count": 4,
      "metadata": {}
    },
    {
      "cell_type": "code",
      "source": [
        "\n",
        "\n",
        "Fs = 150000\n",
        "file = [24]\n",
        "\n",
        "for x in file:\n",
        "    #myDataFolder = \"/Users/Mus/Downloads/\"+date+\"/\"+date+\"_\"+str(x)+\"/\"\n",
        "    myDataFolder = myTopFolder+date+\"_\"+str(x)+\"/\"\n",
        "    myLocalDataFolder = \"/Users/Mus/Downloads/DNA/\"+date+\"/\"+date+\"_\"+str(x)+\"/\"\n",
        "    \n",
        "    if(alreadyConverted == True):\n",
        "        os.chdir(myLocalDataFolder)\n",
        "        fileCount = np.size(glob.glob(\"*.npy\"))\n",
        "    else:\n",
        "        fileCount  = tdmsToDF(myDataFolder,str(x))\n",
        "    \n",
        "    for i in range(1,fileCount+1):\n",
        "        \n",
        "        data=np.load(Path(myLocalDataFolder+\"part\" + str(i) + \".npy\"))\n",
        "        \n",
        "        if(data.shape[1]==4):\n",
        "            myDF = pd.DataFrame(data=data,columns=[\"Voltage_mV\",\"Current_nA\",\"X\",\"Y\"])\n",
        "            dfDrop(myDF,[\"X\",\"Y\"],1)\n",
        "        elif(data.shape[1]==3):\n",
        "            myDF = pd.DataFrame(data=data,columns=[\"Voltage_mV\",\"Current_nA\",\"X\"])\n",
        "            dfDrop(myDF,[\"X\"],1)  \n",
        "        else:\n",
        "            myDF = pd.DataFrame(data=data,columns=[\"Voltage_mV\",\"Current_nA\"])\n",
        "\n",
        "        ################    STEP 1\n",
        "        ##### Create a bitmask using the voltage.\n",
        "\n",
        "        back_roll = -int(Fs/150);\n",
        "        forward_roll = int(Fs/150);\n",
        "\n",
        "        vMask = myDF.Voltage_mV<np.mean(myDF.Voltage_mV)\n",
        "\n",
        "        forward_vMask = np.roll(vMask, forward_roll)\n",
        "        backward_vMask = np.roll(vMask, back_roll)\n",
        "        backOR = np.logical_or(backward_vMask,vMask)\n",
        "        forwardOR = np.logical_or(forward_vMask,vMask)\n",
        "\n",
        "        vMask = np.logical_or(backOR,forwardOR)\n",
        "        vMask = np.invert(vMask)\n",
        "\n",
        "        myDF = myDF[vMask]\n",
        "\n",
        "        reIndex(myDF)\n",
        "\n",
        "        ################## STEP 2\n",
        "        ##### Remove Baseline by LPF\n",
        "\n",
        "        high_b, high_a =signal.butter(4,0.09, btype='highpass')\n",
        "        #myDF[\"HPF\"] = signal.filtfilt(high_b, high_a, myDF[\"Current_nA\"], padlen=150)\n",
        "        \n",
        "        if(myDF[\"Current_nA\"].size<100):\n",
        "                pad = myDF[\"Current_nA\"].size-1\n",
        "        else:\n",
        "            pad = 150\n",
        "            \n",
        "        low_b, low_a =signal.butter(4,0.9, btype='lowpass')\n",
        "        myDF[\"LPF\"] = signal.filtfilt(high_b, high_a, myDF[\"Current_nA\"], padlen=pad)\n",
        "\n",
        "\n",
        "        ################## STEP 3\n",
        "        ##### Remove Extraordinary regions\n",
        "\n",
        "        myDF = myDF[np.logical_and(myDF.LPF<0.25, myDF.LPF>-0.25)]\n",
        "        addTime(Fs,myDF)\n",
        "\n",
        "\n",
        "        ########### STEP 4\n",
        "        ##### Find peaks with promience on LPF\n",
        "\n",
        "        peaks, _ = signal.find_peaks(-myDF.Current_nA, \n",
        "                                     prominence=(0.1), \n",
        "                                     distance=0.1*Fs) \n",
        "                                     #width=0.001*Fs)\n",
        "\n",
        "        newPeaks = peaks[myDF.Current_nA[peaks]<(np.mean(myDF.Current_nA)*0.99)]\n",
        "\n",
        "        #0.001s is quickest, therefore, 0.001*Fs is the distance and width\n",
        "\n",
        "\n",
        "        ########## STEP 5\n",
        "        ## Calculate the peak duration then we'll get rid of the peaks which don't make sense. \n",
        "\n",
        "\n",
        "        # Aggresively filter signal using LPF Butterworth\n",
        "        ########## Undesirable transients. Use scipy filter instead\n",
        "        #order = 3\n",
        "        #cutoff = 1000 \n",
        "        #b, a = butter_lowpass(cutoff, Fs, order)\n",
        "        #y = butter_lowpass_filter(peaks[1], cutoff, Fs, order)\n",
        "        ###############\n",
        "\n",
        "        b, a = signal.butter(4, 0.01)\n",
        "\n",
        "        #Could replace with comprehension, but this is more legible\n",
        "        if(i==1):\n",
        "            depths = []\n",
        "        z =1\n",
        "        for pk in newPeaks:\n",
        "\n",
        "            rollInd = int(Fs*0.01)\n",
        "            peak_x = myDF[\"Time_s\"][pk-rollInd:pk+rollInd]\n",
        "            peak_y = myDF[\"Current_nA\"][pk-rollInd:pk+rollInd]\n",
        "            reIndex(peak_x)\n",
        "            reIndex(peak_y)\n",
        "            \n",
        "            if(myDF[\"Current_nA\"].size<100):\n",
        "                pad = myDF[\"Current_nA\"].size-1\n",
        "            else:\n",
        "                pad = 150\n",
        "            \n",
        "            if(peak_y.shape[0]==0):\n",
        "                print('Empty peak')\n",
        "            else: \n",
        "                if(peak_y.size<100):\n",
        "                    pad2 = peak_y.size-1\n",
        "                else:\n",
        "                    pad2 = 100\n",
        "                    \n",
        "                y = signal.filtfilt(b, a, peak_y, padlen=pad2)\n",
        "\n",
        "                gradY = np.gradient(y)\n",
        "\n",
        "                \n",
        "                ########### EXPERIMENTAL\n",
        "                \n",
        "                peaksPos, _ = signal.find_peaks(gradY,prominence=(0.0001))\n",
        "                peaksNeg, _ = signal.find_peaks(-gradY,prominence=(0.0001))\n",
        "\n",
        "                mArr = gradY[peaksPos][gradY[peaksPos]>abs(np.mean(gradY)*100)]\n",
        "                \n",
        "                if(mArr.size!=0):\n",
        "                    mPeakPos = np.asscalar(np.argwhere(gradY == mArr[mArr.size-1]))\n",
        "                    endIndex = mPeakPos\n",
        "                else:\n",
        "                    endIndex = int(np.argmax(gradY))\n",
        "                    \n",
        "                \n",
        "                mArr = gradY[peaksNeg][abs(gradY[peaksNeg])>abs(np.mean(gradY)*100)]\n",
        "                \n",
        "                if(mArr.size!=0):\n",
        "                    mPeakNeg = np.asscalar(np.argwhere(gradY == mArr[0]))\n",
        "                    startIndex = mPeakNeg\n",
        "                else:\n",
        "                    startIndex = int(np.argmin(gradY))\n",
        "                    \n",
        "                \n",
        "                \n",
        "                ############################################\n",
        "                \n",
        "                \n",
        "                if(endIndex<startIndex):\n",
        "                    temp = endIndex\n",
        "                    endIndex = startIndex\n",
        "                    startIndex = endIndex\n",
        "\n",
        "                endIndex = int(endIndex*1.03)\n",
        "                startIndex = int(startIndex*0.97)\n",
        "\n",
        "                if(startIndex<0):\n",
        "                    startIndex=0\n",
        "                if(endIndex>=peak_x.shape[0]):\n",
        "                    endIndex=peak_x.shape[0]-1\n",
        "\n",
        "                depth = (peak_y[startIndex:endIndex].min() - peak_y[startIndex])*-1000\n",
        "                duration = (peak_x[endIndex] - peak_x[startIndex])*1000\n",
        "                \n",
        "                ################ AREA\n",
        "                #square_height = peak_y.max()#(peak_y.max()-peak_y.min())\n",
        "                #square_width = (peak_x.max()-peak_x.min())\n",
        "                #square_area = square_height*square_width\n",
        "                #trapzArea = np.trapz(peak_y, peak_x)\n",
        "                #ecd = square_area - trapzArea\n",
        "                ########################\n",
        "                \n",
        "                ################New Area\n",
        "                square_area = peak_y.max()*duration\n",
        "                trapzArea = np.trapz(peak_y[startIndex:endIndex], peak_x[startIndex:endIndex])\n",
        "                ecd = square_area - trapzArea\n",
        "        \n",
        "                plt.plot(peak_x,peak_y)\n",
        "                plt.plot(peak_x[startIndex],peak_y[startIndex],'x')\n",
        "                plt.plot(peak_x[endIndex],peak_y[endIndex],'o')\n",
        "\n",
        "                plt.axhline(y=peak_y[startIndex:endIndex].min(),color='red')\n",
        "                plt.axhline(y=peak_y[startIndex],color='red')\n",
        "\n",
        "                plt.axvline(x=peak_x[endIndex],color='black')\n",
        "                plt.axvline(x=peak_x[startIndex],color='black')\n",
        "\n",
        "                plt.savefig(myLocalDataFolder+'goodPeaks_'+ str(z)+'.png')\n",
        "                plt.clf()\n",
        "                z=z+1\n",
        "\n",
        "                #if(duration<5):\n",
        "                depths.append([depth,duration,ecd])\n",
        "    \n",
        "    if not os.path.exists('/Users/Mus/Downloads/DNA/'+date+'/goodPeaks/'):\n",
        "        os.makedirs('/Users/Mus/Downloads/DNA/'+date+'/goodPeaks/')\n",
        "    \n",
        "    depthDur = pd.DataFrame(list(depths),columns =['depth', 'duration', 'ecd'])\n",
        "    path = Path('/Users/Mus/Downloads/DNA/'+date+'/goodPeaks/'+'goodPeaks_'+ str(x)+'.npy')\n",
        "    np.save(path,depthDur)\n",
        "    print('SAVE PEAKS DONE')\n",
        "\n"
      ],
      "outputs": [
        {
          "output_type": "stream",
          "name": "stderr",
          "text": [
            "/usr/local/lib/python3.7/site-packages/ipykernel_launcher.py:135: DeprecationWarning: np.asscalar(a) is deprecated since NumPy v1.16, use a.item() instead\n",
            "/usr/local/lib/python3.7/site-packages/ipykernel_launcher.py:144: DeprecationWarning: np.asscalar(a) is deprecated since NumPy v1.16, use a.item() instead\n"
          ]
        },
        {
          "output_type": "stream",
          "name": "stdout",
          "text": [
            "SAVE PEAKS DONE\n"
          ]
        },
        {
          "output_type": "display_data",
          "data": {
            "text/plain": [
              "<Figure size 432x288 with 0 Axes>"
            ]
          },
          "metadata": {}
        }
      ],
      "execution_count": 6,
      "metadata": {
        "scrolled": true
      }
    },
    {
      "cell_type": "code",
      "source": [
        "################# STEP 6\n",
        "####### Combine all 'goodpeaks' into a plot\n",
        "\n",
        "goodPeaksPath = ('/Users/Mus/Downloads/DNA/'+date+'/goodPeaks/')\n",
        "constrain = True\n",
        "\n",
        "os.chdir(goodPeaksPath)\n",
        "for file in sorted(glob.glob(\"*.npy\")):\n",
        "    depths = []\n",
        "    \n",
        "    np_load_old = np.load\n",
        "    np.load = lambda *a,**k: np_load_old(*a, allow_pickle=True, **k)\n",
        "    depths.extend(np.load(Path(goodPeaksPath+file)).tolist())\n",
        "    np.load = np_load_old\n",
        "    \n",
        "    depthDur = pd.DataFrame(list(depths),columns =['depth', 'duration','ecd'])\n",
        "    \n",
        "    if(constrain==True):\n",
        "        depthDur = depthDur[depthDur.depth<600]\n",
        "        depthDur = depthDur[depthDur.depth>80]\n",
        "        depthDur = depthDur[depthDur.duration>0.5]\n",
        "        depthDur = depthDur[depthDur.duration<6]    \n",
        "        depthDur = depthDur[depthDur.ecd>15]\n",
        "        depthDur = depthDur[depthDur.ecd<200]\n",
        "    \n",
        "    plt.plot(depthDur.duration,-depthDur.depth,'x') \n",
        "    plt.savefig(goodPeaksPath+file+'_Plot.png')\n",
        "    plt.clf()\n",
        "    \n",
        "    plt.hist(depthDur.ecd,bins=50,log=False)\n",
        "    plt.savefig(goodPeaksPath+file+'_Hist.png')\n",
        "    plt.clf()\n",
        "\n",
        "#plt.plot(myDF.Current_nA)\n",
        "#plt.plot(newPeaks,myDF.Current_nA[newPeaks],'o')"
      ],
      "outputs": [
        {
          "output_type": "display_data",
          "data": {
            "text/plain": [
              "<Figure size 432x288 with 0 Axes>"
            ]
          },
          "metadata": {}
        }
      ],
      "execution_count": 214,
      "metadata": {}
    },
    {
      "cell_type": "code",
      "source": [
        "################################################################################\n",
        "################################################################################\n",
        "####################    Simple K-Means on Depth data     #######################\n",
        "################################################################################\n",
        "################################################################################"
      ],
      "outputs": [
        {
          "output_type": "execute_result",
          "execution_count": 17,
          "data": {
            "text/plain": [
              "[<matplotlib.lines.Line2D at 0x13a656410>]"
            ]
          },
          "metadata": {}
        },
        {
          "output_type": "display_data",
          "data": {
            "image/png": "[encoded data removed]",
            "text/plain": [
              "<Figure size 432x288 with 1 Axes>"
            ]
          },
          "metadata": {
            "needs_background": "light"
          }
        }
      ],
      "execution_count": 17,
      "metadata": {}
    },
    {
      "cell_type": "code",
      "source": [
        "from sklearn.cluster import KMeans\n",
        "#depthDurKM = dfDrop(depthDur,['ecd'],0)\n",
        "wcss = []\n",
        "cluster_max = 10\n",
        "cluster_min = 3\n",
        "for i in range(cluster_min, cluster_max):\n",
        "    kmeans = KMeans(n_clusters=i, init='k-means++', max_iter=300, n_init=10, random_state=0)\n",
        "    kmeans.fit(k)\n",
        "    wcss.append(kmeans.inertia_)\n",
        "    #silhouette_score, really increasing runtime on my machine\n",
        "    #preds = kmeans.fit_predict(myDF)\n",
        "    #score = silhouette_score (myDF, preds, metric='euclidean')\n",
        "    #print (\"For n_clusters = {}, silhouette score is {})\".format(kmeans.n_clusters, score))\n",
        "\n",
        "plt.plot(range(cluster_min, cluster_max), wcss)\n",
        "plt.title('Elbow Method')\n",
        "plt.xlabel('Number of clusters')\n",
        "plt.ylabel('WCSS')\n",
        "plt.show()\n",
        "\n",
        "plt.savefig('elbow.svg')\n"
      ],
      "outputs": [
        {
          "output_type": "display_data",
          "data": {
            "image/png": "[encoded data removed]",
            "text/plain": [
              "<Figure size 432x288 with 1 Axes>"
            ]
          },
          "metadata": {
            "needs_background": "light"
          }
        },
        {
          "output_type": "display_data",
          "data": {
            "text/plain": [
              "<Figure size 432x288 with 0 Axes>"
            ]
          },
          "metadata": {}
        }
      ],
      "execution_count": 334,
      "metadata": {}
    },
    {
      "cell_type": "code",
      "source": [
        "\n",
        "x = depthDur.depth.values #returns a numpy array\n",
        "x = x.reshape(-1,1)\n",
        "#min_max_scaler = preprocessing.MinMaxScaler()\n",
        "#x_scaled = min_max_scaler.fit_transform(x)\n",
        "x_scaled = preprocessing.scale(x)\n",
        "\n",
        "y = depthDur.duration.values #returns a numpy array\n",
        "y = y.reshape(-1,1)\n",
        "#min_max_scaler = preprocessing.MinMaxScaler()\n",
        "#y_scaled = min_max_scaler.fit_transform(y)\n",
        "y_scaled = preprocessing.scale(y)\n",
        "\n",
        "z = depthDur.ecd.values #returns a numpy array\n",
        "z = z.reshape(-1,1)\n",
        "#min_max_scaler = preprocessing.scale()#MinMaxScaler()\n",
        "z_scaled = preprocessing.scale(z)\n"
      ],
      "outputs": [],
      "execution_count": 317,
      "metadata": {}
    },
    {
      "cell_type": "code",
      "source": [
        "k = np.column_stack((x_scaled,y_scaled,z_scaled))"
      ],
      "outputs": [],
      "execution_count": 331,
      "metadata": {}
    },
    {
      "cell_type": "code",
      "source": [
        "cluster_optim = 4\n",
        "\n",
        "kmeans = KMeans(n_clusters=cluster_optim, init='k-means++', max_iter=900, n_init=10, random_state=0,tol=0.00001\n",
        "               ,algorithm='full')\n",
        "kmeans.fit(k)\n",
        "#depthDurKM['label'] = kmeans.labels_"
      ],
      "outputs": [
        {
          "output_type": "execute_result",
          "execution_count": 335,
          "data": {
            "text/plain": [
              "KMeans(algorithm='full', copy_x=True, init='k-means++', max_iter=900,\n",
              "       n_clusters=4, n_init=10, n_jobs=None, precompute_distances='auto',\n",
              "       random_state=0, tol=1e-05, verbose=0)"
            ]
          },
          "metadata": {}
        }
      ],
      "execution_count": 335,
      "metadata": {}
    },
    {
      "cell_type": "code",
      "source": [
        "import matplotlib\n",
        "\n",
        "#plt.scatter(depthDur.duration,-depthDur.depth,'x',c=depthDurKM['label'], cmap=pltColors.ListedColormap(colors))\n",
        "\n",
        "\n",
        "colors = ['red','green','blue','purple','black','pink','orange']\n",
        "\n",
        "plt.scatter(depthDur.duration,-depthDur.depth, c=kmeans.labels_, cmap=matplotlib.colors.ListedColormap(colors))\n",
        "plt.savefig('kmeans.png')\n"
      ],
      "outputs": [
        {
          "output_type": "display_data",
          "data": {
            "image/png": "[encoded data removed]",
            "text/plain": [
              "<Figure size 432x288 with 1 Axes>"
            ]
          },
          "metadata": {
            "needs_background": "light"
          }
        }
      ],
      "execution_count": 342,
      "metadata": {}
    },
    {
      "cell_type": "code",
      "source": [],
      "outputs": [],
      "execution_count": null,
      "metadata": {}
    },
    {
      "cell_type": "code",
      "source": [
        "################################################################################\n",
        "################################################################################\n",
        "####################    DONT TOUCH.  OLD   BACKUP     ##########################\n",
        "################################################################################\n",
        "################################################################################"
      ],
      "outputs": [],
      "execution_count": null,
      "metadata": {}
    },
    {
      "cell_type": "code",
      "source": [
        "for i in range(1,fileCount+1):\n",
        "    myDF = pd.DataFrame(data=np.load(Path(myDataFolder+\"part\" + str(i) + \".npy\")), \n",
        "                        columns=[\"Voltage_mV\",\"Current_nA\"])\n",
        "    \n",
        "    ################    STEP 1\n",
        "    ##### Create a bitmask using the voltage.\n",
        "\n",
        "    back_roll = -int(Fs/150);\n",
        "    forward_roll = int(Fs/150);\n",
        "\n",
        "    vMask = myDF.Voltage_mV<np.mean(myDF.Voltage_mV)\n",
        "\n",
        "    forward_vMask = np.roll(vMask, forward_roll)\n",
        "    backward_vMask = np.roll(vMask, back_roll)\n",
        "    backOR = np.logical_or(backward_vMask,vMask)\n",
        "    forwardOR = np.logical_or(forward_vMask,vMask)\n",
        "\n",
        "    vMask = np.logical_or(backOR,forwardOR)\n",
        "    vMask = np.invert(vMask)\n",
        "\n",
        "    myDF = myDF[vMask]\n",
        "\n",
        "    reIndex(myDF)\n",
        "\n",
        "    ################## STEP 2\n",
        "    ##### Remove Baseline by LPF\n",
        "\n",
        "    high_b, high_a =signal.butter(4,0.09, btype='highpass')\n",
        "    #myDF[\"HPF\"] = signal.filtfilt(high_b, high_a, myDF[\"Current_nA\"], padlen=150)\n",
        "\n",
        "    low_b, low_a =signal.butter(4,0.9, btype='lowpass')\n",
        "    myDF[\"LPF\"] = signal.filtfilt(high_b, high_a, myDF[\"Current_nA\"], padlen=150)\n",
        "    \n",
        "    \n",
        "    ################## STEP 3\n",
        "    ##### Remove Extraordinary regions\n",
        "\n",
        "    myDF = myDF[np.logical_and(myDF.LPF<0.25, myDF.LPF>-0.25)]\n",
        "    addTime(Fs,myDF)\n",
        "    \n",
        "\n",
        "    ########### STEP 4\n",
        "    ##### Find peaks with promience on LPF\n",
        "\n",
        "    peaks, _ = signal.find_peaks(-myDF.Current_nA, \n",
        "                                 prominence=(0.1), \n",
        "                                 distance=0.1*Fs) \n",
        "                                 #width=0.001*Fs)\n",
        "\n",
        "    newPeaks = peaks[myDF.Current_nA[peaks]<(np.mean(myDF.Current_nA)*0.99)]\n",
        "\n",
        "    #0.001s is quickest, therefore, 0.001*Fs is the distance and width\n",
        "    \n",
        "    \n",
        "    ########## STEP 5\n",
        "    ## Calculate the peak duration then we'll get rid of the peaks which don't make sense. \n",
        "\n",
        "\n",
        "    # Aggresively filter signal using LPF Butterworth\n",
        "    ########## Undesirable transients. Use scipy filter instead\n",
        "    #order = 3\n",
        "    #cutoff = 1000 \n",
        "    #b, a = butter_lowpass(cutoff, Fs, order)\n",
        "    #y = butter_lowpass_filter(peaks[1], cutoff, Fs, order)\n",
        "    ###############\n",
        "\n",
        "    b, a = signal.butter(4, 0.01)\n",
        "\n",
        "    #Could replace with comprehension, but this is more legible\n",
        "    if(i==1):\n",
        "        depths = []\n",
        "    z =1\n",
        "    for pk in newPeaks:\n",
        "\n",
        "        rollInd = int(Fs*0.01)\n",
        "        peak_x = myDF[\"Time_s\"][pk-rollInd:pk+rollInd]\n",
        "        peak_y = myDF[\"Current_nA\"][pk-rollInd:pk+rollInd]\n",
        "        reIndex(peak_x)\n",
        "        reIndex(peak_y)\n",
        "\n",
        "        if(peak_y.shape[0]==0):\n",
        "            print('Empty peak')\n",
        "        else:\n",
        "            y = signal.filtfilt(b, a, peak_y, padlen=100)\n",
        "\n",
        "            gradY = np.gradient(y)\n",
        "\n",
        "            endIndex = int(np.argmax(gradY))\n",
        "            startIndex = int(np.argmin(gradY))\n",
        "\n",
        "            if(endIndex<startIndex):\n",
        "                temp = endIndex\n",
        "                endIndex = startIndex\n",
        "                startIndex = endIndex\n",
        "\n",
        "            endIndex = int(endIndex*1.03)\n",
        "            startIndex = int(startIndex*0.97)\n",
        "\n",
        "            if(startIndex<0):\n",
        "                startIndex=0\n",
        "            if(endIndex>=peak_x.shape[0]):\n",
        "                endIndex=peak_x.shape[0]-1\n",
        "            \n",
        "            depth = (peak_y[startIndex:endIndex].min() - peak_y[startIndex])*-1000\n",
        "            duration = (peak_x[endIndex] - peak_x[startIndex])*1000\n",
        "            \n",
        "            plt.plot(peak_x,peak_y)\n",
        "            plt.plot(peak_x[startIndex],peak_y[startIndex],'x')\n",
        "            plt.plot(peak_x[endIndex],peak_y[endIndex],'o')\n",
        "            \n",
        "            plt.axhline(y=peak_y[startIndex:endIndex].min(),color='red')\n",
        "            plt.axhline(y=peak_y[startIndex],color='red')\n",
        "            \n",
        "            plt.axvline(x=peak_x[endIndex],color='black')\n",
        "            plt.axvline(x=peak_x[startIndex],color='black')\n",
        "            \n",
        "            plt.savefig(myDataFolder+'goodPeaks_'+ str(z)+'.png')\n",
        "            plt.clf()\n",
        "            z=z+1\n",
        "\n",
        "            #if(duration<5):\n",
        "            depths.append([depth,duration])\n",
        "\n",
        "depthDur = pd.DataFrame(list(depths),columns =['depth', 'duration'])\n",
        "path = Path(myDataFolder+'goodPeaks_'+ str(i)+'.npy')\n",
        "np.save(path,depthDur)\n",
        "print('SAVE PEAKS '+str(i))"
      ],
      "outputs": [],
      "execution_count": null,
      "metadata": {}
    },
    {
      "cell_type": "code",
      "source": [
        "################################################################################\n",
        "################################################################################\n",
        "############### Signal Processing that is no longer yet used. ##################\n",
        "################################################################################\n",
        "################################################################################"
      ],
      "outputs": [],
      "execution_count": null,
      "metadata": {}
    },
    {
      "cell_type": "code",
      "source": [
        "# LPF Butterworth\n",
        "\n",
        "order = 3\n",
        "cutoff = 10000 \n",
        "b, a = butter_lowpass(cutoff, Fs, order)\n",
        "\n",
        "y = butter_lowpass_filter(cutDF[\"Current_nA\"], cutoff, Fs, order)\n",
        "\n",
        "cutDF[\"Filtered_Current\"] = y;\n",
        "cutDF = cutDF[100:]\n",
        "\n",
        "plt.plot(cutDF[\"Time_s\"],cutDF[\"Filtered_Current\"])"
      ],
      "outputs": [],
      "execution_count": null,
      "metadata": {}
    },
    {
      "cell_type": "code",
      "source": [
        "f, t, Zxx = signal.stft(y, Fs, nperseg=1000)\n",
        "plt.pcolormesh(t, f, np.abs(Zxx), vmin=0, vmax=0.0006)\n",
        "plt.title('STFT Magnitude')\n",
        "plt.ylabel('Frequency [Hz]')\n",
        "plt.xlabel('Time [sec]')\n",
        "plt.show()"
      ],
      "outputs": [],
      "execution_count": null,
      "metadata": {}
    },
    {
      "cell_type": "code",
      "source": [
        "f, t, Zxx = signal.stft(cutDF[\"Current_nA\"][1:], Fs, nperseg=1000)\n",
        "plt.pcolormesh(t, f, np.abs(Zxx), vmin=0, vmax=0.006)\n",
        "plt.title('STFT Magnitude')\n",
        "plt.ylabel('Frequency [Hz]')\n",
        "plt.xlabel('Time [sec]')\n",
        "plt.show()"
      ],
      "outputs": [],
      "execution_count": null,
      "metadata": {}
    },
    {
      "cell_type": "code",
      "source": [
        "################################################################################\n",
        "################################################################################\n",
        "################################ Playground ####################################\n",
        "################################################################################\n",
        "################################################################################"
      ],
      "outputs": [],
      "execution_count": null,
      "metadata": {}
    },
    {
      "cell_type": "code",
      "source": [
        "\n",
        "Fs = 150000\n",
        "file = [24]\n",
        "i = 1\n",
        "\n",
        "myDataFolder = myTopFolder+date+\"_\"+str(file[0])+\"/\"\n",
        "myLocalDataFolder = \"/Users/Mus/Downloads/DNA/\"+date+\"/\"+date+\"_\"+str(file[0])+\"/\"\n",
        "\n",
        "\n",
        "os.chdir(myDataFolder)\n",
        "fileCount = np.size(glob.glob(\"*.npy\"))\n",
        "\n",
        "\n",
        "\n",
        "\n",
        "data=np.load(Path(myLocalDataFolder+\"part\" + str(i) + \".npy\"))\n",
        "\n",
        "if(data.shape[1]==4):\n",
        "    myDF = pd.DataFrame(data=data,columns=[\"Voltage_mV\",\"Current_nA\",\"X\",\"Y\"])\n",
        "    dfDrop(myDF,[\"X\",\"Y\"],1)\n",
        "elif(data.shape[1]==3):\n",
        "    myDF = pd.DataFrame(data=data,columns=[\"Voltage_mV\",\"Current_nA\",\"X\"])\n",
        "    dfDrop(myDF,[\"X\"],1)  \n",
        "else:\n",
        "    myDF = pd.DataFrame(data=data,columns=[\"Voltage_mV\",\"Current_nA\"])\n",
        "\n",
        "################    STEP 1\n",
        "##### Create a bitmask using the voltage.\n",
        "\n",
        "back_roll = -int(Fs/150);\n",
        "forward_roll = int(Fs/150);\n",
        "\n",
        "vMask = myDF.Voltage_mV<np.mean(myDF.Voltage_mV)\n",
        "\n",
        "forward_vMask = np.roll(vMask, forward_roll)\n",
        "backward_vMask = np.roll(vMask, back_roll)\n",
        "backOR = np.logical_or(backward_vMask,vMask)\n",
        "forwardOR = np.logical_or(forward_vMask,vMask)\n",
        "\n",
        "vMask = np.logical_or(backOR,forwardOR)\n",
        "vMask = np.invert(vMask)\n",
        "\n",
        "myDF = myDF[vMask]\n",
        "\n",
        "reIndex(myDF)\n",
        "\n",
        "################## STEP 2\n",
        "##### Remove Baseline by LPF\n",
        "\n",
        "high_b, high_a =signal.butter(4,0.09, btype='highpass')\n",
        "#myDF[\"HPF\"] = signal.filtfilt(high_b, high_a, myDF[\"Current_nA\"], padlen=150)\n",
        "\n",
        "if(myDF[\"Current_nA\"].size<100):\n",
        "        pad = myDF[\"Current_nA\"].size-1\n",
        "else:\n",
        "    pad = 150\n",
        "\n",
        "low_b, low_a =signal.butter(4,0.9, btype='lowpass')\n",
        "myDF[\"LPF_temp\"] = signal.filtfilt(high_b, high_a, myDF[\"Current_nA\"], padlen=pad)\n",
        "\n",
        "\n",
        "################## STEP 3\n",
        "##### Remove Extraordinary regions\n",
        "\n",
        "myDF = myDF[np.logical_and(myDF.LPF<0.25, myDF.LPF>-0.25)]\n",
        "addTime(Fs,myDF)\n",
        "\n",
        "\n",
        "########### STEP 4\n",
        "##### Find peaks with promience on LPF\n",
        "\n",
        "peaks, _ = signal.find_peaks(-myDF.Current_nA, \n",
        "                             prominence=(0.1), \n",
        "                             distance=0.1*Fs) \n",
        "                             #width=0.001*Fs)\n",
        "\n",
        "newPeaks = peaks[myDF.Current_nA[peaks]<(np.mean(myDF.Current_nA)*0.99)]\n",
        "\n",
        "#0.001s is quickest, therefore, 0.001*Fs is the distance and width\n",
        "\n"
      ],
      "outputs": [],
      "execution_count": 3,
      "metadata": {}
    },
    {
      "cell_type": "code",
      "source": [
        "plt.plot(myDF.Time_s,myDF.Current_nA)\n",
        "plt.plot(myDF.Time_s[peaks],myDF.Current_nA[peaks],'o')\n",
        "#plt.plot(myDF.Time_s,myDF.LPF_temp)\n",
        "plt.savefig(myLocalDataFolder+'goodPeaks_'+ str(file)+'_'+str(z)+'.png')\n",
        "plt.clf()\n",
        "z=z+1"
      ],
      "outputs": [
        {
          "output_type": "display_data",
          "data": {
            "text/plain": [
              "<Figure size 432x288 with 0 Axes>"
            ]
          },
          "metadata": {}
        }
      ],
      "execution_count": 13,
      "metadata": {}
    },
    {
      "cell_type": "code",
      "source": [
        "########## STEP 5\n",
        "## Calculate the peak duration then we'll get rid of the peaks which don't make sense. \n",
        "\n",
        "\n",
        "# Aggresively filter signal using LPF Butterworth\n",
        "########## Undesirable transients. Use scipy filter instead\n",
        "#order = 3\n",
        "#cutoff = 1000 \n",
        "#b, a = butter_lowpass(cutoff, Fs, order)\n",
        "#y = butter_lowpass_filter(peaks[1], cutoff, Fs, order)\n",
        "###############\n",
        "\n",
        "b, a = signal.butter(4, 0.01)\n",
        "\n",
        "#Could replace with comprehension, but this is more legible\n",
        "depths = []\n",
        "z =1\n",
        "for pk in newPeaks:\n",
        "\n",
        "    rollInd = int(Fs*0.01)\n",
        "    peak_x = myDF[\"Time_s\"][pk-rollInd:pk+rollInd]\n",
        "    peak_y = myDF[\"Current_nA\"][pk-rollInd:pk+rollInd]\n",
        "    reIndex(peak_x)\n",
        "    reIndex(peak_y)\n",
        "\n",
        "    if(myDF[\"Current_nA\"].size<100):\n",
        "        pad = myDF[\"Current_nA\"].size-1\n",
        "    else:\n",
        "        pad = 150\n",
        "\n",
        "    if(peak_y.shape[0]==0):\n",
        "        print('Empty peak')\n",
        "    else: \n",
        "        if(peak_y.size<100):\n",
        "            pad2 = peak_y.size-1\n",
        "        else:\n",
        "            pad2 = 100\n",
        "\n",
        "        y = signal.filtfilt(b, a, peak_y, padlen=pad2)\n",
        "\n",
        "        gradY = np.gradient(y)\n",
        "\n",
        "        endIndex = int(np.argmax(gradY))\n",
        "        startIndex = int(np.argmin(gradY))\n",
        "\n",
        "        if(endIndex<startIndex):\n",
        "            temp = endIndex\n",
        "            endIndex = startIndex\n",
        "            startIndex = endIndex\n",
        "\n",
        "        endIndex = int(endIndex*1.03)\n",
        "        startIndex = int(startIndex*0.97)\n",
        "\n",
        "        if(startIndex<0):\n",
        "            startIndex=0\n",
        "        if(endIndex>=peak_x.shape[0]):\n",
        "            endIndex=peak_x.shape[0]-1\n",
        "\n",
        "        depth = (peak_y[startIndex:endIndex].min() - peak_y[startIndex])*-1000\n",
        "        duration = (peak_x[endIndex] - peak_x[startIndex])*1000\n",
        "\n",
        "        ################ AREA\n",
        "        square_height = peak_y.max()#(peak_y.max()-peak_y.min())\n",
        "        square_width = (peak_x.max()-peak_x.min())\n",
        "        \n",
        "        square_area = depth*duration\n",
        "        trapzArea = np.trapz(peak_y[startIndex:endIndex], peak_x[startIndex:endIndex])\n",
        "        ecd = square_area - trapzArea\n",
        "\n",
        "        plt.plot(peak_x,peak_y)\n",
        "        plt.plot(peak_x[startIndex],peak_y[startIndex],'x')\n",
        "        plt.plot(peak_x[endIndex],peak_y[endIndex],'o')\n",
        "\n",
        "        plt.axhline(y=peak_y[startIndex:endIndex].min(),color='red')\n",
        "        plt.axhline(y=peak_y[startIndex],color='red')\n",
        "\n",
        "        plt.axvline(x=peak_x[endIndex],color='black')\n",
        "        plt.axvline(x=peak_x[startIndex],color='black')\n",
        "\n",
        "        plt.savefig(myLocalDataFolder+'goodPeaks_'+ str(z)+'.png')\n",
        "        plt.clf()\n",
        "        z=z+1\n",
        "\n",
        "        #if(duration<5):\n",
        "        depths.append([depth,duration,ecd])\n",
        "\n",
        "#if not os.path.exists('/Users/Mus/Downloads/DNA/'+date+'/goodPeaks/'):\n",
        "#os.makedirs('/Users/Mus/Downloads/DNA/'+date+'/goodPeaks/')\n",
        "\n",
        "#depthDur = pd.DataFrame(list(depths),columns =['depth', 'duration', 'ecd'])\n",
        "#path = Path('/Users/Mus/Downloads/DNA/'+date+'/goodPeaks/'+'goodPeaks_'+ str(x)+'.npy')\n",
        "#np.save(path,depthDur)\n",
        "#print('SAVE PEAKS DONE')"
      ],
      "outputs": [
        {
          "output_type": "display_data",
          "data": {
            "text/plain": [
              "<Figure size 432x288 with 0 Axes>"
            ]
          },
          "metadata": {}
        }
      ],
      "execution_count": 127,
      "metadata": {}
    },
    {
      "cell_type": "code",
      "source": [
        "################## To look at one peak\n",
        "\n",
        "pk = newPeaks[11]\n",
        "\n",
        "rollInd = int(Fs*0.01)\n",
        "peak_x = myDF[\"Time_s\"][pk-rollInd:pk+rollInd]\n",
        "peak_y = myDF[\"Current_nA\"][pk-rollInd:pk+rollInd]\n",
        "reIndex(peak_x)\n",
        "reIndex(peak_y)\n",
        "\n",
        "if(myDF[\"Current_nA\"].size<100):\n",
        "    pad = myDF[\"Current_nA\"].size-1\n",
        "else:\n",
        "    pad = 150\n",
        "\n",
        "if(peak_y.shape[0]==0):\n",
        "    print('Empty peak')\n",
        "else: \n",
        "    if(peak_y.size<100):\n",
        "        pad2 = peak_y.size-1\n",
        "    else:\n",
        "        pad2 = 100\n",
        "\n",
        "    y = signal.filtfilt(b, a, peak_y, padlen=pad2)\n",
        "\n",
        "    gradY = np.gradient(y)\n",
        "\n",
        "    endIndex = int(np.argmax(gradY))\n",
        "    startIndex = int(np.argmin(gradY))\n",
        "\n",
        "    if(endIndex<startIndex):\n",
        "        temp = endIndex\n",
        "        endIndex = startIndex\n",
        "        startIndex = endIndex\n",
        "\n",
        "    endIndex = int(endIndex*1.03)\n",
        "    startIndex = int(startIndex*0.97)\n",
        "\n",
        "    if(startIndex<0):\n",
        "        startIndex=0\n",
        "    if(endIndex>=peak_x.shape[0]):\n",
        "        endIndex=peak_x.shape[0]-1\n",
        "\n",
        "    depth = (peak_y[startIndex:endIndex].min() - peak_y[startIndex])*-1000\n",
        "    duration = (peak_x[endIndex] - peak_x[startIndex])*1000\n",
        "\n",
        "    ################ AREA\n",
        "    square_height = peak_y.max()#(peak_y.max()-peak_y.min())\n",
        "    square_width = (peak_x.max()-peak_x.min())\n",
        "    square_area = square_height*square_width\n",
        "    trapzArea = np.trapz(peak_y, peak_x)\n",
        "    ecd = square_area - trapzArea\n"
      ],
      "outputs": [],
      "execution_count": 15,
      "metadata": {}
    },
    {
      "cell_type": "code",
      "source": [
        "plt.plot(peak_x,gradY)\n",
        "plt.plot(peak_x[mPeakPos],gradY[mPeakPos],'o')\n",
        "plt.plot(peak_x[mPeakNeg],gradY[mPeakNeg],'x')\n"
      ],
      "outputs": [
        {
          "output_type": "execute_result",
          "execution_count": 115,
          "data": {
            "text/plain": [
              "[<matplotlib.lines.Line2D at 0x149f3d390>]"
            ]
          },
          "metadata": {}
        },
        {
          "output_type": "display_data",
          "data": {
            "image/png": "[encoded data removed]",
            "text/plain": [
              "<Figure size 432x288 with 1 Axes>"
            ]
          },
          "metadata": {
            "needs_background": "light"
          }
        }
      ],
      "execution_count": 115,
      "metadata": {}
    },
    {
      "cell_type": "code",
      "source": [
        "plt.plot(peak_x,gradY)\n",
        "plt.savefig(myLocalDataFolder+'goodPeaks_12_3.png')\n",
        "plt.clf()"
      ],
      "outputs": [
        {
          "output_type": "display_data",
          "data": {
            "text/plain": [
              "<Figure size 432x288 with 0 Axes>"
            ]
          },
          "metadata": {}
        }
      ],
      "execution_count": 25,
      "metadata": {}
    },
    {
      "cell_type": "code",
      "source": [
        "peaksPos, _ = signal.find_peaks(gradY,prominence=(0.0001))\n",
        "peaksNeg, _ = signal.find_peaks(-gradY,prominence=(0.0001))"
      ],
      "outputs": [],
      "execution_count": 108,
      "metadata": {}
    },
    {
      "cell_type": "code",
      "source": [
        "peaksPos, _ = signal.find_peaks(gradY,prominence=(0.0001))\n",
        "peaksNeg, _ = signal.find_peaks(-gradY,prominence=(0.0001))\n",
        "\n",
        "mArr = gradY[peaksPos][gradY[peaksPos]>abs(np.mean(gradY)*100)]\n",
        "mPeakPos = np.asscalar(np.argwhere(gradY == mArr[mArr.size-1]))\n",
        "\n",
        "mArr = gradY[peaksNeg][abs(gradY[peaksNeg])>abs(np.mean(gradY)*100)]\n",
        "mPeakNeg = np.asscalar(np.argwhere(gradY == mArr[0]))\n"
      ],
      "outputs": [
        {
          "output_type": "stream",
          "name": "stderr",
          "text": [
            "/usr/local/lib/python3.7/site-packages/ipykernel_launcher.py:2: DeprecationWarning: np.asscalar(a) is deprecated since NumPy v1.16, use a.item() instead\n",
            "  \n",
            "/usr/local/lib/python3.7/site-packages/ipykernel_launcher.py:5: DeprecationWarning: np.asscalar(a) is deprecated since NumPy v1.16, use a.item() instead\n",
            "  \"\"\"\n"
          ]
        }
      ],
      "execution_count": 114,
      "metadata": {}
    },
    {
      "cell_type": "code",
      "source": [
        "gradY[peaksNeg]"
      ],
      "outputs": [
        {
          "output_type": "execute_result",
          "execution_count": 109,
          "data": {
            "text/plain": [
              "array([-9.78208988e-05, -1.76927602e-04, -2.50649355e-04, -3.80357179e-03,\n",
              "       -6.60967519e-04, -1.66473368e-04, -1.49570877e-04, -5.22389470e-05,\n",
              "       -5.82402321e-05, -8.98096271e-05])"
            ]
          },
          "metadata": {}
        }
      ],
      "execution_count": 109,
      "metadata": {}
    },
    {
      "cell_type": "code",
      "source": [
        "abs(np.mean(gradY)*100)"
      ],
      "outputs": [
        {
          "output_type": "execute_result",
          "execution_count": 111,
          "data": {
            "text/plain": [
              "0.00027058937633649783"
            ]
          },
          "metadata": {}
        }
      ],
      "execution_count": 111,
      "metadata": {}
    }
  ],
  "metadata": {
    "kernelspec": {
      "display_name": "Python 3",
      "language": "python",
      "name": "python3"
    },
    "language_info": {
      "codemirror_mode": {
        "name": "ipython",
        "version": 3
      },
      "file_extension": ".py",
      "mimetype": "text/x-python",
      "name": "python",
      "nbconvert_exporter": "python",
      "pygments_lexer": "ipython3",
      "version": "3.7.6"
    },
    "nteract": {
      "version": "0.15.0"
    }
  },
  "nbformat": 4,
  "nbformat_minor": 2
}